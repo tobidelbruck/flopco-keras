{
 "cells": [
  {
   "cell_type": "code",
   "execution_count": 2,
   "metadata": {},
   "outputs": [],
   "source": [
    "import os\n",
    "os.environ[\"CUDA_DEVICE_ORDER\"]=\"PCI_BUS_ID\"  \n",
    "os.environ[\"CUDA_VISIBLE_DEVICES\"]=\"6\" "
   ]
  },
  {
   "cell_type": "code",
   "execution_count": 3,
   "metadata": {},
   "outputs": [],
   "source": [
    "from torchvision.models import resnet50\n",
    "from flopco import FlopCo\n",
    "\n",
    "device = 'cuda'"
   ]
  },
  {
   "cell_type": "code",
   "execution_count": 4,
   "metadata": {},
   "outputs": [],
   "source": [
    "model = resnet50()\n",
    "model.to(device)\n",
    "\n",
    "stats = FlopCo(model, img_size=(1, 3, 224, 224), device=device)"
   ]
  },
  {
   "cell_type": "code",
   "execution_count": 8,
   "metadata": {
    "scrolled": false
   },
   "outputs": [
    {
     "data": {
      "text/plain": [
       "dict_keys(['device', 'img_size', 'input_shapes', 'output_shapes', 'flops', 'macs', 'params', 'instances', 'ltypes', 'total_flops', 'total_macs', 'total_params', 'relative_flops', 'relative_macs', 'relative_params'])"
      ]
     },
     "execution_count": 8,
     "metadata": {},
     "output_type": "execute_result"
    }
   ],
   "source": [
    "stats.__dict__.keys()"
   ]
  },
  {
   "cell_type": "code",
   "execution_count": 6,
   "metadata": {},
   "outputs": [
    {
     "data": {
      "text/plain": [
       "(4089184256,\n",
       " defaultdict(None,\n",
       "             {'conv1': 0.02886001585137272,\n",
       "              'layer1.0.conv1': 0.003141226215115398,\n",
       "              'layer1.0.conv2': 0.028271035936038583,\n",
       "              'layer1.0.conv3': 0.012564904860461593,\n",
       "              'layer1.0.downsample.0': 0.012564904860461593,\n",
       "              'layer1.1.conv1': 0.012564904860461593,\n",
       "              'layer1.1.conv2': 0.028271035936038583,\n",
       "              'layer1.1.conv3': 0.012564904860461593,\n",
       "              'layer1.2.conv1': 0.012564904860461593,\n",
       "              'layer1.2.conv2': 0.028271035936038583,\n",
       "              'layer1.2.conv3': 0.012564904860461593,\n",
       "              'layer2.0.conv1': 0.025129809720923185,\n",
       "              'layer2.0.conv2': 0.028271035936038583,\n",
       "              'layer2.0.conv3': 0.012564904860461593,\n",
       "              'layer2.0.downsample.0': 0.025129809720923185,\n",
       "              'layer2.1.conv1': 0.012564904860461593,\n",
       "              'layer2.1.conv2': 0.028271035936038583,\n",
       "              'layer2.1.conv3': 0.012564904860461593,\n",
       "              'layer2.2.conv1': 0.012564904860461593,\n",
       "              'layer2.2.conv2': 0.028271035936038583,\n",
       "              'layer2.2.conv3': 0.012564904860461593,\n",
       "              'layer2.3.conv1': 0.012564904860461593,\n",
       "              'layer2.3.conv2': 0.028271035936038583,\n",
       "              'layer2.3.conv3': 0.012564904860461593,\n",
       "              'layer3.0.conv1': 0.025129809720923185,\n",
       "              'layer3.0.conv2': 0.028271035936038583,\n",
       "              'layer3.0.conv3': 0.012564904860461593,\n",
       "              'layer3.0.downsample.0': 0.025129809720923185,\n",
       "              'layer3.1.conv1': 0.012564904860461593,\n",
       "              'layer3.1.conv2': 0.028271035936038583,\n",
       "              'layer3.1.conv3': 0.012564904860461593,\n",
       "              'layer3.2.conv1': 0.012564904860461593,\n",
       "              'layer3.2.conv2': 0.028271035936038583,\n",
       "              'layer3.2.conv3': 0.012564904860461593,\n",
       "              'layer3.3.conv1': 0.012564904860461593,\n",
       "              'layer3.3.conv2': 0.028271035936038583,\n",
       "              'layer3.3.conv3': 0.012564904860461593,\n",
       "              'layer3.4.conv1': 0.012564904860461593,\n",
       "              'layer3.4.conv2': 0.028271035936038583,\n",
       "              'layer3.4.conv3': 0.012564904860461593,\n",
       "              'layer3.5.conv1': 0.012564904860461593,\n",
       "              'layer3.5.conv2': 0.028271035936038583,\n",
       "              'layer3.5.conv3': 0.012564904860461593,\n",
       "              'layer4.0.conv1': 0.025129809720923185,\n",
       "              'layer4.0.conv2': 0.028271035936038583,\n",
       "              'layer4.0.conv3': 0.012564904860461593,\n",
       "              'layer4.0.downsample.0': 0.025129809720923185,\n",
       "              'layer4.1.conv1': 0.012564904860461593,\n",
       "              'layer4.1.conv2': 0.028271035936038583,\n",
       "              'layer4.1.conv3': 0.012564904860461593,\n",
       "              'layer4.2.conv1': 0.012564904860461593,\n",
       "              'layer4.2.conv2': 0.028271035936038583,\n",
       "              'layer4.2.conv3': 0.012564904860461593,\n",
       "              'fc': 0.0005010836779692213}))"
      ]
     },
     "execution_count": 6,
     "metadata": {},
     "output_type": "execute_result"
    }
   ],
   "source": [
    "stats.total_macs, stats.relative_flops"
   ]
  },
  {
   "cell_type": "code",
   "execution_count": null,
   "metadata": {},
   "outputs": [],
   "source": []
  }
 ],
 "metadata": {
  "kernelspec": {
   "display_name": "Python 3",
   "language": "python",
   "name": "python3"
  },
  "language_info": {
   "codemirror_mode": {
    "name": "ipython",
    "version": 3
   },
   "file_extension": ".py",
   "mimetype": "text/x-python",
   "name": "python",
   "nbconvert_exporter": "python",
   "pygments_lexer": "ipython3",
   "version": "3.6.8"
  }
 },
 "nbformat": 4,
 "nbformat_minor": 2
}
